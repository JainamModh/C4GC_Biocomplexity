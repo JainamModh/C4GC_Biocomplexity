{
 "cells": [
  {
   "cell_type": "code",
   "execution_count": 1,
   "id": "69603515",
   "metadata": {},
   "outputs": [
    {
     "name": "stdout",
     "output_type": "stream",
     "text": [
      "  EXISTS: go-basic.obo\n",
      "go-basic.obo: fmt(1.2) rel(2021-05-01) 47,284 GO Terms\n"
     ]
    }
   ],
   "source": [
    "from goatools.base import get_godag\n",
    "godag = get_godag(\"go-basic.obo\") #download GO ontology .obo file"
   ]
  },
  {
   "cell_type": "code",
   "execution_count": 18,
   "id": "acfeb85c",
   "metadata": {},
   "outputs": [
    {
     "data": {
      "text/plain": [
       "GOTerm('GO:0009070'):\n",
       "  id:GO:0009070\n",
       "  item_id:GO:0009070\n",
       "  name:serine family amino acid biosynthetic process\n",
       "  namespace:biological_process\n",
       "  _parents: 2 items\n",
       "    GO:0009069\n",
       "    GO:1901607\n",
       "  parents: 2 items\n",
       "    GO:1901607\tlevel-05\tdepth-08\talpha-amino acid biosynthetic process [biological_process]\n",
       "    GO:0009069\tlevel-05\tdepth-08\tserine family amino acid metabolic process [biological_process]\n",
       "  children: 7 items\n",
       "    GO:0009090\tlevel-05\tdepth-10\thomoserine biosynthetic process [biological_process]\n",
       "    GO:0019344\tlevel-05\tdepth-10\tcysteine biosynthetic process [biological_process]\n",
       "    GO:0070179\tlevel-06\tdepth-10\tD-serine biosynthetic process [biological_process]\n",
       "    GO:0071269\tlevel-06\tdepth-10\tL-homocysteine biosynthetic process [biological_process]\n",
       "    GO:0016260\tlevel-07\tdepth-10\tselenocysteine biosynthetic process [biological_process]\n",
       "    GO:0006564\tlevel-05\tdepth-10\tL-serine biosynthetic process [biological_process]\n",
       "    GO:0006545\tlevel-05\tdepth-10\tglycine biosynthetic process [biological_process]\n",
       "  level:6\n",
       "  depth:9\n",
       "  is_obsolete:False\n",
       "  alt_ids: 0 items"
      ]
     },
     "execution_count": 18,
     "metadata": {},
     "output_type": "execute_result"
    }
   ],
   "source": [
    "term_id = \"GO:0009070\" ## serine family amino acid biosynthetic process\n",
    "go_term = godag[term_id]\n",
    "go_term"
   ]
  },
  {
   "cell_type": "code",
   "execution_count": 20,
   "id": "9768cd62",
   "metadata": {},
   "outputs": [
    {
     "data": {
      "text/plain": [
       "{'GO:0006082',\n",
       " 'GO:0006520',\n",
       " 'GO:0006807',\n",
       " 'GO:0008150',\n",
       " 'GO:0008152',\n",
       " 'GO:0009058',\n",
       " 'GO:0009069',\n",
       " 'GO:0009987',\n",
       " 'GO:0016053',\n",
       " 'GO:0019752',\n",
       " 'GO:0043436',\n",
       " 'GO:0044237',\n",
       " 'GO:0044238',\n",
       " 'GO:0044249',\n",
       " 'GO:0044281',\n",
       " 'GO:0044283',\n",
       " 'GO:0071704',\n",
       " 'GO:1901564',\n",
       " 'GO:1901566',\n",
       " 'GO:1901576',\n",
       " 'GO:1901605',\n",
       " 'GO:1901607'}"
      ]
     },
     "execution_count": 20,
     "metadata": {},
     "output_type": "execute_result"
    }
   ],
   "source": [
    "ancestors = go_term.get_all_parents()\n",
    "ancestors"
   ]
  },
  {
   "cell_type": "code",
   "execution_count": 27,
   "id": "a23fe6a2",
   "metadata": {},
   "outputs": [
    {
     "data": {
      "text/plain": [
       "{'GO:0006535',\n",
       " 'GO:0006545',\n",
       " 'GO:0006564',\n",
       " 'GO:0009090',\n",
       " 'GO:0016260',\n",
       " 'GO:0019264',\n",
       " 'GO:0019265',\n",
       " 'GO:0019343',\n",
       " 'GO:0019344',\n",
       " 'GO:0019345',\n",
       " 'GO:0070179',\n",
       " 'GO:0071269'}"
      ]
     },
     "execution_count": 27,
     "metadata": {},
     "output_type": "execute_result"
    }
   ],
   "source": [
    "descendants = go_term.get_all_children()\n",
    "descendants"
   ]
  },
  {
   "cell_type": "code",
   "execution_count": null,
   "id": "3239746e",
   "metadata": {},
   "outputs": [],
   "source": []
  }
 ],
 "metadata": {
  "kernelspec": {
   "display_name": "Python 3",
   "language": "python",
   "name": "python3"
  },
  "language_info": {
   "codemirror_mode": {
    "name": "ipython",
    "version": 3
   },
   "file_extension": ".py",
   "mimetype": "text/x-python",
   "name": "python",
   "nbconvert_exporter": "python",
   "pygments_lexer": "ipython3",
   "version": "3.9.5"
  }
 },
 "nbformat": 4,
 "nbformat_minor": 5
}
