{
 "cells": [
  {
   "cell_type": "code",
   "execution_count": 2,
   "id": "4ceb19ad",
   "metadata": {},
   "outputs": [],
   "source": [
    "import pandas as pd\n",
    "\n",
    "## Create an ontology factory in order to fetch GO\n",
    "from ontobio.ontol_factory import OntologyFactory\n",
    "ofactory = OntologyFactory()\n",
    "\n",
    "## rendering ontologies\n",
    "from ontobio import GraphRenderer"
   ]
  },
  {
   "cell_type": "code",
   "execution_count": 3,
   "id": "ad874bf5",
   "metadata": {},
   "outputs": [],
   "source": [
    "ont = ofactory.create('go') #remote query using SPARQL"
   ]
  },
  {
   "cell_type": "code",
   "execution_count": 8,
   "id": "d387b1e3",
   "metadata": {},
   "outputs": [],
   "source": [
    "term_id = \"GO:0009070\" ## serine family amino acid biosynthetic process\n",
    "ancestors = ont.ancestors(term_id)\n",
    "descendants = ont.descendants(term_id)"
   ]
  },
  {
   "cell_type": "code",
   "execution_count": 9,
   "id": "129fe716",
   "metadata": {},
   "outputs": [
    {
     "data": {
      "text/plain": [
       "['GO:0044281',\n",
       " 'GO:0044237',\n",
       " 'GO:0008150',\n",
       " 'GO:1901566',\n",
       " 'GO:0006520',\n",
       " 'GO:0071704',\n",
       " 'GO:1901607',\n",
       " 'GO:0016053',\n",
       " 'GO:1901576',\n",
       " 'GO:0009058',\n",
       " 'GO:0006082',\n",
       " 'GO:0009069',\n",
       " 'GO:0008152',\n",
       " 'GO:0006807',\n",
       " 'GO:1901605',\n",
       " 'GO:0044283',\n",
       " 'GO:0019752',\n",
       " 'GO:0009987',\n",
       " 'GO:0044249',\n",
       " 'GO:1901564',\n",
       " 'GO:0043436',\n",
       " 'GO:0044238']"
      ]
     },
     "execution_count": 9,
     "metadata": {},
     "output_type": "execute_result"
    }
   ],
   "source": [
    "ancestors"
   ]
  },
  {
   "cell_type": "code",
   "execution_count": 5,
   "id": "c5ece68e",
   "metadata": {},
   "outputs": [
    {
     "name": "stdout",
     "output_type": "stream",
     "text": [
      ". GO:0008150 ! biological_process\n",
      " % GO:0008152 ! metabolic process\n",
      "  % GO:0006807 ! nitrogen compound metabolic process\n",
      "   % GO:1901564 ! organonitrogen compound metabolic process\n",
      "    % GO:1901566 ! organonitrogen compound biosynthetic process\n",
      "     % GO:1901607 ! alpha-amino acid biosynthetic process\n",
      "    % GO:0006520 ! cellular amino acid metabolic process\n",
      "     % GO:1901605 ! alpha-amino acid metabolic process\n",
      "      % GO:0009069 ! serine family amino acid metabolic process\n",
      "      % GO:1901607 ! alpha-amino acid biosynthetic process\n",
      "  % GO:0044238 ! primary metabolic process\n",
      "   % GO:0006520 ! cellular amino acid metabolic process\n",
      "    % GO:1901605 ! alpha-amino acid metabolic process\n",
      "     % GO:0009069 ! serine family amino acid metabolic process\n",
      "     % GO:1901607 ! alpha-amino acid biosynthetic process\n",
      "  % GO:0044281 ! small molecule metabolic process\n",
      "   % GO:0006082 ! organic acid metabolic process\n",
      "    % GO:0043436 ! oxoacid metabolic process\n",
      "     % GO:0019752 ! carboxylic acid metabolic process\n",
      "      % GO:0006520 ! cellular amino acid metabolic process\n",
      "       % GO:1901605 ! alpha-amino acid metabolic process\n",
      "        % GO:0009069 ! serine family amino acid metabolic process\n",
      "        % GO:1901607 ! alpha-amino acid biosynthetic process\n",
      "    % GO:0016053 ! organic acid biosynthetic process\n",
      "     % GO:1901607 ! alpha-amino acid biosynthetic process\n",
      "   % GO:0044283 ! small molecule biosynthetic process\n",
      "    % GO:0016053 ! organic acid biosynthetic process\n",
      "     % GO:1901607 ! alpha-amino acid biosynthetic process\n",
      "  % GO:0071704 ! organic substance metabolic process\n",
      "   % GO:1901576 ! organic substance biosynthetic process\n",
      "    % GO:1901566 ! organonitrogen compound biosynthetic process\n",
      "     % GO:1901607 ! alpha-amino acid biosynthetic process\n",
      "    % GO:0016053 ! organic acid biosynthetic process\n",
      "     % GO:1901607 ! alpha-amino acid biosynthetic process\n",
      "   % GO:0006082 ! organic acid metabolic process\n",
      "    % GO:0043436 ! oxoacid metabolic process\n",
      "     % GO:0019752 ! carboxylic acid metabolic process\n",
      "      % GO:0006520 ! cellular amino acid metabolic process\n",
      "       % GO:1901605 ! alpha-amino acid metabolic process\n",
      "        % GO:0009069 ! serine family amino acid metabolic process\n",
      "        % GO:1901607 ! alpha-amino acid biosynthetic process\n",
      "    % GO:0016053 ! organic acid biosynthetic process\n",
      "     % GO:1901607 ! alpha-amino acid biosynthetic process\n",
      "   % GO:1901564 ! organonitrogen compound metabolic process\n",
      "    % GO:1901566 ! organonitrogen compound biosynthetic process\n",
      "     % GO:1901607 ! alpha-amino acid biosynthetic process\n",
      "    % GO:0006520 ! cellular amino acid metabolic process\n",
      "     % GO:1901605 ! alpha-amino acid metabolic process\n",
      "      % GO:0009069 ! serine family amino acid metabolic process\n",
      "      % GO:1901607 ! alpha-amino acid biosynthetic process\n",
      "  % GO:0009058 ! biosynthetic process\n",
      "   % GO:0044249 ! cellular biosynthetic process\n",
      "    % GO:0016053 ! organic acid biosynthetic process\n",
      "     % GO:1901607 ! alpha-amino acid biosynthetic process\n",
      "   % GO:1901576 ! organic substance biosynthetic process\n",
      "    % GO:1901566 ! organonitrogen compound biosynthetic process\n",
      "     % GO:1901607 ! alpha-amino acid biosynthetic process\n",
      "    % GO:0016053 ! organic acid biosynthetic process\n",
      "     % GO:1901607 ! alpha-amino acid biosynthetic process\n",
      "   % GO:0044283 ! small molecule biosynthetic process\n",
      "    % GO:0016053 ! organic acid biosynthetic process\n",
      "     % GO:1901607 ! alpha-amino acid biosynthetic process\n",
      "  % GO:0044237 ! cellular metabolic process\n",
      "   % GO:0006082 ! organic acid metabolic process\n",
      "    % GO:0043436 ! oxoacid metabolic process\n",
      "     % GO:0019752 ! carboxylic acid metabolic process\n",
      "      % GO:0006520 ! cellular amino acid metabolic process\n",
      "       % GO:1901605 ! alpha-amino acid metabolic process\n",
      "        % GO:0009069 ! serine family amino acid metabolic process\n",
      "        % GO:1901607 ! alpha-amino acid biosynthetic process\n",
      "    % GO:0016053 ! organic acid biosynthetic process\n",
      "     % GO:1901607 ! alpha-amino acid biosynthetic process\n",
      "   % GO:0044249 ! cellular biosynthetic process\n",
      "    % GO:0016053 ! organic acid biosynthetic process\n",
      "     % GO:1901607 ! alpha-amino acid biosynthetic process\n",
      " % GO:0009987 ! cellular process\n",
      "  % GO:0044237 ! cellular metabolic process\n",
      "   % GO:0006082 ! organic acid metabolic process\n",
      "    % GO:0043436 ! oxoacid metabolic process\n",
      "     % GO:0019752 ! carboxylic acid metabolic process\n",
      "      % GO:0006520 ! cellular amino acid metabolic process\n",
      "       % GO:1901605 ! alpha-amino acid metabolic process\n",
      "        % GO:0009069 ! serine family amino acid metabolic process\n",
      "        % GO:1901607 ! alpha-amino acid biosynthetic process\n",
      "    % GO:0016053 ! organic acid biosynthetic process\n",
      "     % GO:1901607 ! alpha-amino acid biosynthetic process\n",
      "   % GO:0044249 ! cellular biosynthetic process\n",
      "    % GO:0016053 ! organic acid biosynthetic process\n",
      "     % GO:1901607 ! alpha-amino acid biosynthetic process\n",
      "\n",
      "\n"
     ]
    }
   ],
   "source": [
    "renderer = GraphRenderer.create('tree')\n",
    "print(renderer.render_subgraph(ont, nodes=ancestors))"
   ]
  },
  {
   "cell_type": "code",
   "execution_count": 10,
   "id": "1ed0ca12",
   "metadata": {
    "scrolled": true
   },
   "outputs": [
    {
     "data": {
      "text/plain": [
       "['GO:0071269',\n",
       " 'GO:0019265',\n",
       " 'GO:0019343',\n",
       " 'GO:1901711',\n",
       " 'GO:0006535',\n",
       " 'GO:0019344',\n",
       " 'GO:0004124',\n",
       " 'GO:1901712',\n",
       " 'GO:0019345',\n",
       " 'GO:0009090',\n",
       " 'GO:0019264',\n",
       " 'GO:1901710',\n",
       " 'GO:0006564',\n",
       " 'GO:0016260',\n",
       " 'GO:0006545',\n",
       " 'GO:0070179']"
      ]
     },
     "execution_count": 10,
     "metadata": {},
     "output_type": "execute_result"
    }
   ],
   "source": [
    "descendants"
   ]
  },
  {
   "cell_type": "code",
   "execution_count": 7,
   "id": "0d598d9e",
   "metadata": {},
   "outputs": [
    {
     "name": "stdout",
     "output_type": "stream",
     "text": [
      ". GO:0019344 ! cysteine biosynthetic process\n",
      " % GO:0006535 ! cysteine biosynthetic process from serine\n",
      " % GO:0019343 ! cysteine biosynthetic process via cystathionine\n",
      " % GO:0019345 ! cysteine biosynthetic process via S-sulfo-L-cysteine\n",
      " < GO:0004124 ! cysteine synthase activity\n",
      "\n",
      ". GO:0009090 ! homoserine biosynthetic process\n",
      " RO:0002211 GO:1901710 ! regulation of homoserine biosynthetic process\n",
      "  % GO:1901711 ! negative regulation of homoserine biosynthetic process\n",
      "  % GO:1901712 ! positive regulation of homoserine biosynthetic process\n",
      " RO:0002212 GO:1901711 ! negative regulation of homoserine biosynthetic process\n",
      " RO:0002213 GO:1901712 ! positive regulation of homoserine biosynthetic process\n",
      "\n",
      ". GO:0006545 ! glycine biosynthetic process\n",
      " % GO:0019264 ! glycine biosynthetic process from serine\n",
      " % GO:0019265 ! glycine biosynthetic process, by transamination of glyoxylate\n",
      "\n",
      "\n"
     ]
    }
   ],
   "source": [
    "print(renderer.render_subgraph(ont, nodes=descendants))"
   ]
  }
 ],
 "metadata": {
  "kernelspec": {
   "display_name": "Python 3",
   "language": "python",
   "name": "python3"
  },
  "language_info": {
   "codemirror_mode": {
    "name": "ipython",
    "version": 3
   },
   "file_extension": ".py",
   "mimetype": "text/x-python",
   "name": "python",
   "nbconvert_exporter": "python",
   "pygments_lexer": "ipython3",
   "version": "3.9.5"
  }
 },
 "nbformat": 4,
 "nbformat_minor": 5
}
